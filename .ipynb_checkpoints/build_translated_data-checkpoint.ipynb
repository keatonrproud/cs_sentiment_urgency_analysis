{
 "cells": [
  {
   "cell_type": "code",
   "execution_count": 126,
   "id": "3bbeec54",
   "metadata": {
    "hideCode": false,
    "hidePrompt": false
   },
   "outputs": [],
   "source": [
    "# load packages\n",
    "import pandas as pd\n",
    "from easynmt import EasyNMT"
   ]
  },
  {
   "cell_type": "markdown",
   "id": "4754aa08",
   "metadata": {},
   "source": [
    "### Load part of the sample data downloaded from Kaggle"
   ]
  },
  {
   "cell_type": "code",
   "execution_count": 63,
   "id": "b8d1fa92",
   "metadata": {
    "hideCode": false,
    "hidePrompt": false
   },
   "outputs": [],
   "source": [
    "# load data\n",
    "raw = pd.read_parquet('en_data.parquet.gzip')"
   ]
  },
  {
   "cell_type": "markdown",
   "id": "ec024200",
   "metadata": {},
   "source": [
    "### Convert tickets to be multilingual"
   ]
  },
  {
   "cell_type": "code",
   "execution_count": 208,
   "id": "6be879f0",
   "metadata": {},
   "outputs": [],
   "source": [
    "# build translation model\n",
    "trans = EasyNMT('mbart50_en2m')"
   ]
  },
  {
   "cell_type": "code",
   "execution_count": 242,
   "id": "61ff17a0",
   "metadata": {
    "scrolled": true
   },
   "outputs": [],
   "source": [
    "# create language duplicates\n",
    "translated = clean.copy().iloc[:250,:]\n",
    "\n",
    "langs = ['en', 'fr', 'it', 'pt', 'pl', 'ru', 'ko', 'es', 'nl', 'ja', 'zh']"
   ]
  },
  {
   "cell_type": "code",
   "execution_count": null,
   "id": "319396e9",
   "metadata": {},
   "outputs": [],
   "source": [
    "# convert each language for each chunk of the data\n",
    "chunk_size = round(len(translated)/len(langs))\n",
    "translated['lang'] = ''\n",
    "translated['trans_text'] = ''\n",
    "for num in range(len(langs)):\n",
    "    start = num*chunk_size\n",
    "    if num != len(langs)-1:\n",
    "        end = (num+1)*chunk_size\n",
    "    else:\n",
    "        end = len(translated)\n",
    "    sentences = translated.iloc[start:end,1].tolist()\n",
    "           \n",
    "    translated_sentences = trans.translate(sentences, source_lang='en', target_lang=langs[num], max_new_tokens=150)\n",
    "    \n",
    "    translated['lang'].iloc[start:end] = langs[num]\n",
    "    translated['trans_text'].iloc[start:end] = translated_sentences\n",
    "    \n",
    "    print(f'done {langs[num]}')"
   ]
  },
  {
   "cell_type": "markdown",
   "id": "34331e45",
   "metadata": {},
   "source": [
    "### Save multilingual data"
   ]
  },
  {
   "cell_type": "code",
   "execution_count": 238,
   "id": "b7bf0441",
   "metadata": {},
   "outputs": [],
   "source": [
    "translated.to_parquet('translated.parquet.gzip')"
   ]
  }
 ],
 "metadata": {
  "hide_code_all_hidden": false,
  "kernelspec": {
   "display_name": "Python 3 (ipykernel)",
   "language": "python",
   "name": "python3"
  },
  "language_info": {
   "codemirror_mode": {
    "name": "ipython",
    "version": 3
   },
   "file_extension": ".py",
   "mimetype": "text/x-python",
   "name": "python",
   "nbconvert_exporter": "python",
   "pygments_lexer": "ipython3",
   "version": "3.10.4"
  }
 },
 "nbformat": 4,
 "nbformat_minor": 5
}
