{
 "cells": [
  {
   "cell_type": "code",
   "execution_count": 25,
   "id": "84a03ed4",
   "metadata": {
    "hideCode": false,
    "hidePrompt": false
   },
   "outputs": [],
   "source": [
    "# load packages\n",
    "import pandas as pd\n",
    "# !pip install deep_translator\n",
    "from deep_translator import GoogleTranslator, exceptions\n",
    "# !pip install luga\n",
    "from luga import language\n",
    "import numpy as np\n",
    "# !pip install vaderSentiment\n",
    "from vaderSentiment.vaderSentiment import SentimentIntensityAnalyzer"
   ]
  },
  {
   "cell_type": "markdown",
   "id": "7170a75e",
   "metadata": {},
   "source": [
    "### Load and prepare data"
   ]
  },
  {
   "cell_type": "code",
   "execution_count": 3,
   "id": "1a3c7c08",
   "metadata": {
    "hideCode": false,
    "hidePrompt": false
   },
   "outputs": [],
   "source": [
    "# load data\n",
    "raw = pd.read_parquet('translated.parquet.gzip')"
   ]
  },
  {
   "cell_type": "code",
   "execution_count": 4,
   "id": "b13b5cfe",
   "metadata": {
    "hideCode": false,
    "hidePrompt": false
   },
   "outputs": [],
   "source": [
    "# access your multilingual data and ensure it is lowercase\n",
    "multi = pd.DataFrame()\n",
    "multi['trans_text'] = raw.trans_text.str.lower()"
   ]
  },
  {
   "cell_type": "markdown",
   "id": "67313692",
   "metadata": {},
   "source": [
    "### Translate multilingual tickets into English for processing"
   ]
  },
  {
   "cell_type": "code",
   "execution_count": 9,
   "id": "fb5c7e31",
   "metadata": {},
   "outputs": [],
   "source": [
    "def translate_str(text):\n",
    "    lang = language(text).name\n",
    "    if lang == 'zh':\n",
    "        lang = 'zh-CN'\n",
    "    try:\n",
    "        trans = GoogleTranslator(source=lang, target='en').translate(text)\n",
    "    except exceptions.LanguageNotSupportedException:\n",
    "        trans = text\n",
    "        \n",
    "    return trans, lang.upper()"
   ]
  },
  {
   "cell_type": "code",
   "execution_count": 10,
   "id": "80b8fc75",
   "metadata": {
    "hideCode": false,
    "hidePrompt": false
   },
   "outputs": [],
   "source": [
    "# translate multilingual to english\n",
    "multi['en_text'] = multi.trans_text.apply(translate_str).str[0]"
   ]
  },
  {
   "cell_type": "markdown",
   "id": "39c16562",
   "metadata": {},
   "source": [
    "### Create initial urgency ratings based on sentiment and strength of the negative sentiment"
   ]
  },
  {
   "cell_type": "code",
   "execution_count": 12,
   "id": "571aa6a1",
   "metadata": {
    "hideCode": false,
    "hidePrompt": false
   },
   "outputs": [],
   "source": [
    "# run sentiment analysis to find negatives and potential negatives\n",
    "sia = SentimentIntensityAnalyzer()\n",
    "\n",
    "def v_polarity(text):\n",
    "    return sia.polarity_scores(text)['compound']\n",
    "\n",
    "def v_negativity(text):\n",
    "    return sia.polarity_scores(text)['neg']\n",
    "\n",
    "multi['polarity'] = multi['en_text'].apply(v_polarity)\n",
    "multi['negativity'] = multi['en_text'].apply(v_negativity)"
   ]
  },
  {
   "cell_type": "code",
   "execution_count": 13,
   "id": "fceedc56",
   "metadata": {
    "hideCode": false,
    "hidePrompt": false
   },
   "outputs": [],
   "source": [
    "# label tickets as positive, negative, or neutral\n",
    "min_positive = 0.3\n",
    "min_neutral = 0\n",
    "\n",
    "multi['polarity_class'] = np.select([((multi['polarity'] > min_positive) & ((multi['negativity'] == 0) | (multi['polarity'] > 0.7))), \n",
    "                                     ((multi['polarity'] < min_neutral) | (multi['negativity'] > 0)), \n",
    "                                     ((min_positive >= multi['polarity']) & (multi['polarity'] >= min_neutral))],\n",
    "                                    ['Positive', 'Negative', 'Neutral'])"
   ]
  },
  {
   "cell_type": "code",
   "execution_count": 14,
   "id": "11258f4f",
   "metadata": {
    "hideCode": false,
    "hidePrompt": false
   },
   "outputs": [],
   "source": [
    "# classify urgency based on level of negativity\n",
    "high_urgency_max = -0.5\n",
    "mid_urgency_max = -0.35\n",
    "low_urgency_min = -0.2\n",
    "\n",
    "multi['urgency_polarity'] = np.select([(multi['polarity'] < high_urgency_max),\n",
    "                                       ((multi['polarity'] > low_urgency_min) & (multi['polarity_class'] != \"Positive\")),\n",
    "                                       ((mid_urgency_max <= multi['polarity']) & (multi['polarity'] <= low_urgency_min)),\n",
    "                                       ((high_urgency_max <= multi['polarity']) & (multi['polarity'] <= mid_urgency_max))],\n",
    "                                     [4, 1, 2, 3],\n",
    "                                     -5).astype(int)"
   ]
  },
  {
   "cell_type": "markdown",
   "id": "16a002ea",
   "metadata": {},
   "source": [
    "### Adjust urgency rating based on words and characters used in the ticket"
   ]
  },
  {
   "cell_type": "code",
   "execution_count": 15,
   "id": "7a38d6e9",
   "metadata": {
    "hideCode": false,
    "hidePrompt": false
   },
   "outputs": [],
   "source": [
    "# keywords for urgency; score based on number of words in text\n",
    "urgent_words = ['need', 'urgent', 'urgency', 'urgently', 'please', 'help', 'useless', 'immediate', 'immediately', 'dire', 'asap', 'pay', 'paid', 'worst', 'worse', 'terrible', 'terribly', 'broke', 'broken', 'disappoint', 'disappointed', 'disappointingly', 'disappointing', 'quick', 'fast']\n",
    "urgent_symbols = ['!', '$', '?']\n",
    "\n",
    "def urgent_word_count(text):\n",
    "    count = 0\n",
    "    for symbol in urgent_symbols:\n",
    "        count += text.count(symbol)/2\n",
    "    \n",
    "    text = ''.join([a for a in text if a.isalpha() or a == \" \"])\n",
    "    \n",
    "    to_check = text.split()\n",
    "    for word in urgent_words:\n",
    "        count += to_check.count(word)\n",
    "  \n",
    "    return count"
   ]
  },
  {
   "cell_type": "code",
   "execution_count": 16,
   "id": "46946661",
   "metadata": {
    "hideCode": false,
    "hidePrompt": false
   },
   "outputs": [],
   "source": [
    "# get counts of urgent text\n",
    "multi['urgency_text'] = multi['en_text'].apply(urgent_word_count)"
   ]
  },
  {
   "cell_type": "code",
   "execution_count": 17,
   "id": "5fe6c0e4",
   "metadata": {
    "hideCode": false,
    "hidePrompt": false
   },
   "outputs": [],
   "source": [
    "# get key urgency stats\n",
    "urgency_text_90th_p = multi.urgency_text.iloc[round(len(multi.urgency_text)*.1)]\n",
    "urgency_text_75th_p = multi.urgency_text.iloc[round(len(multi.urgency_text)*.25)]"
   ]
  },
  {
   "cell_type": "code",
   "execution_count": 18,
   "id": "5dc18c98",
   "metadata": {
    "hideCode": false,
    "hidePrompt": false
   },
   "outputs": [],
   "source": [
    "# increase urgency level based on num of urgency text score\n",
    "multi['urgency_rating'] = np.where(((multi['polarity'] != 'Positive') & (multi['urgency_text'] > urgency_text_75th_p) & (multi['urgency_polarity'] > 0)),\n",
    "                                  multi['urgency_polarity'] + 1,\n",
    "                                  multi['urgency_polarity'])\n",
    "\n",
    "multi['urgency_rating'] = np.where(((multi['polarity'] != 'Positive') & (multi['urgency_text'] > urgency_text_90th_p) & (multi['urgency_polarity'] > 0)),\n",
    "                                  multi['urgency_rating'] + 1,\n",
    "                                  multi['urgency_rating'])"
   ]
  },
  {
   "cell_type": "markdown",
   "id": "ba691ec3",
   "metadata": {},
   "source": [
    "### Create final urgency classification based on above"
   ]
  },
  {
   "cell_type": "code",
   "execution_count": 19,
   "id": "95b8ac07",
   "metadata": {},
   "outputs": [],
   "source": [
    "# create classification based on urgency ratings\n",
    "multi['urgency_class'] = np.select([(multi['urgency_rating'] == 6), (multi['urgency_rating'] == 5), (multi['urgency_rating'] == 4), (multi['urgency_rating'] == 3), (multi['urgency_rating'] == 2), ((multi['urgency_rating'] == 1) & (multi['urgency_text'] > 0)), ((multi['urgency_rating'] == 1) & (multi['urgency_text'] == 0))],\n",
    "                                  ['HIGH', 'HIGH', 'Mid-High', 'Low-Mid', 'Low', 'Lowest', 'None'],\n",
    "                                  'None')"
   ]
  },
  {
   "cell_type": "code",
   "execution_count": 23,
   "id": "661d5c13",
   "metadata": {},
   "outputs": [],
   "source": [
    "# make urgency classes sortable\n",
    "multi.urgency_class = pd.Categorical(multi.urgency_class,\n",
    "                                    categories=['None', 'Lowest', 'Low', 'Low-Mid', 'Mid-High', 'HIGH'],\n",
    "                                    ordered=True)\n",
    "\n",
    "multi.sort_values(by='urgency_rating', ascending=False, inplace=True)"
   ]
  },
  {
   "cell_type": "markdown",
   "id": "1f9e9f5b",
   "metadata": {},
   "source": [
    "### View the final dataset to evaluate tickets based on final classification"
   ]
  },
  {
   "cell_type": "code",
   "execution_count": 24,
   "id": "c65c257e",
   "metadata": {},
   "outputs": [
    {
     "data": {
      "text/html": [
       "<div>\n",
       "<style scoped>\n",
       "    .dataframe tbody tr th:only-of-type {\n",
       "        vertical-align: middle;\n",
       "    }\n",
       "\n",
       "    .dataframe tbody tr th {\n",
       "        vertical-align: top;\n",
       "    }\n",
       "\n",
       "    .dataframe thead th {\n",
       "        text-align: right;\n",
       "    }\n",
       "</style>\n",
       "<table border=\"1\" class=\"dataframe\">\n",
       "  <thead>\n",
       "    <tr style=\"text-align: right;\">\n",
       "      <th></th>\n",
       "      <th>trans_text</th>\n",
       "      <th>en_text</th>\n",
       "      <th>polarity</th>\n",
       "      <th>negativity</th>\n",
       "      <th>polarity_class</th>\n",
       "      <th>urgency_polarity</th>\n",
       "      <th>urgency_text</th>\n",
       "      <th>urgency_rating</th>\n",
       "      <th>urgency_class</th>\n",
       "    </tr>\n",
       "  </thead>\n",
       "  <tbody>\n",
       "    <tr>\n",
       "      <th>361</th>\n",
       "      <td>is het mogelijk om amzl te verhinderen mijn pa...</td>\n",
       "      <td>is it possible to prevent amzl from sending my...</td>\n",
       "      <td>-0.8176</td>\n",
       "      <td>0.363</td>\n",
       "      <td>Negative</td>\n",
       "      <td>4</td>\n",
       "      <td>1.5</td>\n",
       "      <td>6</td>\n",
       "      <td>HIGH</td>\n",
       "    </tr>\n",
       "    <tr>\n",
       "      <th>232</th>\n",
       "      <td>это что на моем экране? не уверен, что это хбо...</td>\n",
       "      <td>what's on my screen? not sure if it's xbox sid...</td>\n",
       "      <td>-0.6921</td>\n",
       "      <td>0.175</td>\n",
       "      <td>Negative</td>\n",
       "      <td>4</td>\n",
       "      <td>2.5</td>\n",
       "      <td>6</td>\n",
       "      <td>HIGH</td>\n",
       "    </tr>\n",
       "    <tr>\n",
       "      <th>31</th>\n",
       "      <td>somebody from please help meeeeee 😩😩😩😩 i'm hav...</td>\n",
       "      <td>somebody from please help meeeeee 😩😩😩😩 i'm hav...</td>\n",
       "      <td>-0.5423</td>\n",
       "      <td>0.362</td>\n",
       "      <td>Negative</td>\n",
       "      <td>4</td>\n",
       "      <td>3.0</td>\n",
       "      <td>6</td>\n",
       "      <td>HIGH</td>\n",
       "    </tr>\n",
       "    <tr>\n",
       "      <th>378</th>\n",
       "      <td>もう アマゾンは使わない! 商品が「出荷」になったので 一日中待つと 間違った国に送っただけです!</td>\n",
       "      <td>I don't use Amazon anymore! I waited all day b...</td>\n",
       "      <td>-0.6372</td>\n",
       "      <td>0.199</td>\n",
       "      <td>Negative</td>\n",
       "      <td>4</td>\n",
       "      <td>1.0</td>\n",
       "      <td>5</td>\n",
       "      <td>HIGH</td>\n",
       "    </tr>\n",
       "    <tr>\n",
       "      <th>136</th>\n",
       "      <td>porque é que havia uma \"\" half gig update \"\" p...</td>\n",
       "      <td>why was there a \"\"half gig update\"\" for world ...</td>\n",
       "      <td>-0.5994</td>\n",
       "      <td>0.281</td>\n",
       "      <td>Negative</td>\n",
       "      <td>4</td>\n",
       "      <td>0.5</td>\n",
       "      <td>5</td>\n",
       "      <td>HIGH</td>\n",
       "    </tr>\n",
       "    <tr>\n",
       "      <th>...</th>\n",
       "      <td>...</td>\n",
       "      <td>...</td>\n",
       "      <td>...</td>\n",
       "      <td>...</td>\n",
       "      <td>...</td>\n",
       "      <td>...</td>\n",
       "      <td>...</td>\n",
       "      <td>...</td>\n",
       "      <td>...</td>\n",
       "    </tr>\n",
       "    <tr>\n",
       "      <th>233</th>\n",
       "      <td>5 приложение на xboxes не работает код ошибки ...</td>\n",
       "      <td>5 app on xboxes not working error code 200, di...</td>\n",
       "      <td>0.5511</td>\n",
       "      <td>0.000</td>\n",
       "      <td>Positive</td>\n",
       "      <td>-5</td>\n",
       "      <td>1.5</td>\n",
       "      <td>-5</td>\n",
       "      <td>None</td>\n",
       "    </tr>\n",
       "    <tr>\n",
       "      <th>230</th>\n",
       "      <td>выкупил код для fifa точек сегодня вечером и д...</td>\n",
       "      <td>redeemed the code for fifa points tonight and ...</td>\n",
       "      <td>0.3182</td>\n",
       "      <td>0.000</td>\n",
       "      <td>Positive</td>\n",
       "      <td>-5</td>\n",
       "      <td>0.5</td>\n",
       "      <td>-5</td>\n",
       "      <td>None</td>\n",
       "    </tr>\n",
       "    <tr>\n",
       "      <th>225</th>\n",
       "      <td>kinda нужно убедиться, что у меня есть 680$ cd...</td>\n",
       "      <td>kinda need to make sure i have 680$ cdn in my ...</td>\n",
       "      <td>0.6249</td>\n",
       "      <td>0.000</td>\n",
       "      <td>Positive</td>\n",
       "      <td>-5</td>\n",
       "      <td>1.5</td>\n",
       "      <td>-5</td>\n",
       "      <td>None</td>\n",
       "    </tr>\n",
       "    <tr>\n",
       "      <th>223</th>\n",
       "      <td>когда кто-то или знает, когда xbox один x кора...</td>\n",
       "      <td>when someone or knows when xbox one x ships le...</td>\n",
       "      <td>0.4215</td>\n",
       "      <td>0.000</td>\n",
       "      <td>Positive</td>\n",
       "      <td>-5</td>\n",
       "      <td>0.0</td>\n",
       "      <td>-5</td>\n",
       "      <td>None</td>\n",
       "    </tr>\n",
       "    <tr>\n",
       "      <th>450</th>\n",
       "      <td>是的,11.0.3</td>\n",
       "      <td>Yes, 11.0.3</td>\n",
       "      <td>0.4019</td>\n",
       "      <td>0.000</td>\n",
       "      <td>Positive</td>\n",
       "      <td>-5</td>\n",
       "      <td>0.0</td>\n",
       "      <td>-5</td>\n",
       "      <td>None</td>\n",
       "    </tr>\n",
       "  </tbody>\n",
       "</table>\n",
       "<p>250 rows × 9 columns</p>\n",
       "</div>"
      ],
      "text/plain": [
       "                                            trans_text  \\\n",
       "361  is het mogelijk om amzl te verhinderen mijn pa...   \n",
       "232  это что на моем экране? не уверен, что это хбо...   \n",
       "31   somebody from please help meeeeee 😩😩😩😩 i'm hav...   \n",
       "378  もう アマゾンは使わない! 商品が「出荷」になったので 一日中待つと 間違った国に送っただけです!   \n",
       "136  porque é que havia uma \"\" half gig update \"\" p...   \n",
       "..                                                 ...   \n",
       "233  5 приложение на xboxes не работает код ошибки ...   \n",
       "230  выкупил код для fifa точек сегодня вечером и д...   \n",
       "225  kinda нужно убедиться, что у меня есть 680$ cd...   \n",
       "223  когда кто-то или знает, когда xbox один x кора...   \n",
       "450                                          是的,11.0.3   \n",
       "\n",
       "                                               en_text  polarity  negativity  \\\n",
       "361  is it possible to prevent amzl from sending my...   -0.8176       0.363   \n",
       "232  what's on my screen? not sure if it's xbox sid...   -0.6921       0.175   \n",
       "31   somebody from please help meeeeee 😩😩😩😩 i'm hav...   -0.5423       0.362   \n",
       "378  I don't use Amazon anymore! I waited all day b...   -0.6372       0.199   \n",
       "136  why was there a \"\"half gig update\"\" for world ...   -0.5994       0.281   \n",
       "..                                                 ...       ...         ...   \n",
       "233  5 app on xboxes not working error code 200, di...    0.5511       0.000   \n",
       "230  redeemed the code for fifa points tonight and ...    0.3182       0.000   \n",
       "225  kinda need to make sure i have 680$ cdn in my ...    0.6249       0.000   \n",
       "223  when someone or knows when xbox one x ships le...    0.4215       0.000   \n",
       "450                                        Yes, 11.0.3    0.4019       0.000   \n",
       "\n",
       "    polarity_class  urgency_polarity  urgency_text  urgency_rating  \\\n",
       "361       Negative                 4           1.5               6   \n",
       "232       Negative                 4           2.5               6   \n",
       "31        Negative                 4           3.0               6   \n",
       "378       Negative                 4           1.0               5   \n",
       "136       Negative                 4           0.5               5   \n",
       "..             ...               ...           ...             ...   \n",
       "233       Positive                -5           1.5              -5   \n",
       "230       Positive                -5           0.5              -5   \n",
       "225       Positive                -5           1.5              -5   \n",
       "223       Positive                -5           0.0              -5   \n",
       "450       Positive                -5           0.0              -5   \n",
       "\n",
       "    urgency_class  \n",
       "361          HIGH  \n",
       "232          HIGH  \n",
       "31           HIGH  \n",
       "378          HIGH  \n",
       "136          HIGH  \n",
       "..            ...  \n",
       "233          None  \n",
       "230          None  \n",
       "225          None  \n",
       "223          None  \n",
       "450          None  \n",
       "\n",
       "[250 rows x 9 columns]"
      ]
     },
     "execution_count": 24,
     "metadata": {},
     "output_type": "execute_result"
    }
   ],
   "source": [
    "multi"
   ]
  }
 ],
 "metadata": {
  "hide_code_all_hidden": false,
  "kernelspec": {
   "display_name": "Python 3 (ipykernel)",
   "language": "python",
   "name": "python3"
  },
  "language_info": {
   "codemirror_mode": {
    "name": "ipython",
    "version": 3
   },
   "file_extension": ".py",
   "mimetype": "text/x-python",
   "name": "python",
   "nbconvert_exporter": "python",
   "pygments_lexer": "ipython3",
   "version": "3.10.4"
  }
 },
 "nbformat": 4,
 "nbformat_minor": 5
}
