{
 "cells": [
  {
   "cell_type": "code",
   "execution_count": 10,
   "id": "84a03ed4",
   "metadata": {
    "hideCode": false,
    "hidePrompt": false
   },
   "outputs": [],
   "source": [
    "# load packages\n",
    "import pandas as pd\n",
    "from easynmt import EasyNMT\n",
    "import numpy as np\n",
    "!pip install vaderSentiment\n",
    "from vaderSentiment.vaderSentiment import SentimentIntensityAnalyzer"
   ]
  },
  {
   "cell_type": "markdown",
   "id": "7170a75e",
   "metadata": {},
   "source": [
    "### Load and prepare data"
   ]
  },
  {
   "cell_type": "code",
   "execution_count": 2,
   "id": "1a3c7c08",
   "metadata": {
    "hideCode": false,
    "hidePrompt": false
   },
   "outputs": [],
   "source": [
    "# load data\n",
    "raw = pd.read_parquet('translated.parquet.gzip')"
   ]
  },
  {
   "cell_type": "code",
   "execution_count": 27,
   "id": "b13b5cfe",
   "metadata": {
    "hideCode": false,
    "hidePrompt": false
   },
   "outputs": [],
   "source": [
    "# access your multilingual data and ensure it is lowercase\n",
    "multi = pd.DataFrame()\n",
    "multi['trans_text'] = raw.trans_text.str.lower()"
   ]
  },
  {
   "cell_type": "markdown",
   "id": "67313692",
   "metadata": {},
   "source": [
    "### Translate multilingual tickets into English for processing"
   ]
  },
  {
   "cell_type": "code",
   "execution_count": 54,
   "id": "2e6fd8c7",
   "metadata": {
    "hideCode": false,
    "hidePrompt": false
   },
   "outputs": [
    {
     "name": "stderr",
     "output_type": "stream",
     "text": [
      "1.47kB [00:00, 94.3kB/s]                                                                                               \n"
     ]
    },
    {
     "data": {
      "application/vnd.jupyter.widget-view+json": {
       "model_id": "81244f2b17cd4324a4c75090b2c30e90",
       "version_major": 2,
       "version_minor": 0
      },
      "text/plain": [
       "Downloading (…)lve/main/config.json:   0%|          | 0.00/1.51k [00:00<?, ?B/s]"
      ]
     },
     "metadata": {},
     "output_type": "display_data"
    },
    {
     "name": "stderr",
     "output_type": "stream",
     "text": [
      "C:\\Users\\keato\\AppData\\Local\\Programs\\Python\\Python310\\lib\\site-packages\\huggingface_hub\\file_download.py:129: UserWarning: `huggingface_hub` cache-system uses symlinks by default to efficiently store duplicated files but your machine does not support them in C:\\Users\\keato\\.cache\\huggingface\\hub. Caching files will still work but in a degraded version that might require more space on your disk. This warning can be disabled by setting the `HF_HUB_DISABLE_SYMLINKS_WARNING` environment variable. For more details, see https://huggingface.co/docs/huggingface_hub/how-to-cache#limitations.\n",
      "To support symlinks on Windows, you either need to activate Developer Mode or to run Python as an administrator. In order to see activate developer mode, see this article: https://docs.microsoft.com/en-us/windows/apps/get-started/enable-your-device-for-development\n",
      "  warnings.warn(message)\n"
     ]
    },
    {
     "data": {
      "application/vnd.jupyter.widget-view+json": {
       "model_id": "8bcecd2a84e54c6fa50b5403b30b26a2",
       "version_major": 2,
       "version_minor": 0
      },
      "text/plain": [
       "Downloading (…)\"pytorch_model.bin\";:   0%|          | 0.00/2.44G [00:00<?, ?B/s]"
      ]
     },
     "metadata": {},
     "output_type": "display_data"
    },
    {
     "data": {
      "application/vnd.jupyter.widget-view+json": {
       "model_id": "e7b6b57f509041929b07c4474078345f",
       "version_major": 2,
       "version_minor": 0
      },
      "text/plain": [
       "Downloading (…)neration_config.json:   0%|          | 0.00/268 [00:00<?, ?B/s]"
      ]
     },
     "metadata": {},
     "output_type": "display_data"
    },
    {
     "data": {
      "application/vnd.jupyter.widget-view+json": {
       "model_id": "05784e09a8e14a119795d94ae2c34171",
       "version_major": 2,
       "version_minor": 0
      },
      "text/plain": [
       "Downloading (…)okenizer_config.json:   0%|          | 0.00/461 [00:00<?, ?B/s]"
      ]
     },
     "metadata": {},
     "output_type": "display_data"
    },
    {
     "data": {
      "application/vnd.jupyter.widget-view+json": {
       "model_id": "a65b00e854284863b0a7304003eae7c1",
       "version_major": 2,
       "version_minor": 0
      },
      "text/plain": [
       "Downloading (…)ncepiece.bpe.model\";:   0%|          | 0.00/5.07M [00:00<?, ?B/s]"
      ]
     },
     "metadata": {},
     "output_type": "display_data"
    },
    {
     "data": {
      "application/vnd.jupyter.widget-view+json": {
       "model_id": "15b0156b448d402986b0aeeac1ac9594",
       "version_major": 2,
       "version_minor": 0
      },
      "text/plain": [
       "Downloading (…)cial_tokens_map.json:   0%|          | 0.00/649 [00:00<?, ?B/s]"
      ]
     },
     "metadata": {},
     "output_type": "display_data"
    }
   ],
   "source": [
    "# build translation model\n",
    "trans = EasyNMT('mbart50_m2en')"
   ]
  },
  {
   "cell_type": "code",
   "execution_count": 55,
   "id": "80b8fc75",
   "metadata": {
    "hideCode": false,
    "hidePrompt": false
   },
   "outputs": [
    {
     "name": "stdout",
     "output_type": "stream",
     "text": [
      "1\n",
      "2\n",
      "3\n",
      "4\n",
      "5\n",
      "6\n",
      "7\n",
      "8\n",
      "9\n",
      "10\n",
      "11\n",
      "12\n",
      "13\n",
      "14\n",
      "15\n",
      "16\n",
      "17\n",
      "18\n",
      "19\n",
      "20\n",
      "21\n",
      "22\n",
      "23\n",
      "24\n",
      "25\n",
      "26\n",
      "27\n",
      "28\n",
      "29\n",
      "30\n",
      "31\n",
      "32\n",
      "33\n",
      "34\n",
      "35\n",
      "36\n",
      "37\n",
      "38\n",
      "39\n",
      "40\n",
      "41\n",
      "42\n",
      "43\n",
      "44\n",
      "45\n",
      "46\n",
      "47\n",
      "48\n",
      "49\n",
      "50\n",
      "51\n",
      "52\n",
      "53\n",
      "54\n",
      "55\n",
      "56\n",
      "57\n",
      "58\n",
      "59\n",
      "60\n",
      "61\n",
      "62\n",
      "63\n",
      "64\n",
      "65\n",
      "66\n",
      "67\n",
      "68\n",
      "69\n",
      "70\n",
      "71\n",
      "72\n",
      "73\n",
      "74\n",
      "75\n",
      "76\n",
      "77\n",
      "78\n",
      "79\n",
      "80\n",
      "81\n",
      "82\n",
      "83\n",
      "84\n",
      "85\n",
      "86\n",
      "87\n",
      "88\n",
      "89\n",
      "90\n",
      "91\n",
      "92\n",
      "93\n",
      "94\n",
      "95\n",
      "96\n",
      "97\n",
      "98\n",
      "99\n",
      "100\n",
      "101\n",
      "102\n",
      "103\n",
      "104\n",
      "105\n",
      "106\n",
      "107\n",
      "108\n",
      "109\n",
      "110\n",
      "111\n",
      "112\n",
      "113\n",
      "114\n",
      "115\n",
      "116\n",
      "117\n",
      "118\n",
      "119\n",
      "120\n",
      "121\n",
      "122\n",
      "123\n",
      "124\n",
      "125\n",
      "126\n",
      "127\n",
      "128\n",
      "129\n",
      "130\n",
      "131\n",
      "132\n",
      "133\n",
      "134\n",
      "135\n",
      "136\n",
      "137\n",
      "138\n",
      "139\n",
      "140\n",
      "141\n",
      "142\n",
      "143\n",
      "144\n",
      "145\n",
      "146\n",
      "147\n",
      "148\n",
      "149\n",
      "150\n",
      "151\n",
      "152\n",
      "153\n",
      "154\n",
      "155\n",
      "156\n",
      "157\n",
      "158\n",
      "159\n",
      "160\n",
      "161\n",
      "162\n",
      "163\n",
      "164\n",
      "165\n",
      "166\n",
      "167\n",
      "168\n",
      "169\n",
      "170\n",
      "171\n",
      "172\n",
      "173\n",
      "174\n",
      "175\n",
      "176\n",
      "177\n",
      "178\n",
      "179\n",
      "180\n",
      "181\n",
      "182\n",
      "183\n",
      "184\n",
      "185\n",
      "186\n",
      "187\n",
      "188\n",
      "189\n",
      "190\n",
      "191\n",
      "192\n",
      "193\n",
      "194\n",
      "195\n",
      "196\n",
      "197\n",
      "198\n",
      "199\n",
      "200\n",
      "201\n",
      "202\n",
      "203\n",
      "204\n",
      "205\n",
      "206\n",
      "207\n",
      "208\n",
      "209\n",
      "210\n",
      "211\n",
      "212\n",
      "213\n",
      "214\n",
      "215\n",
      "216\n",
      "217\n",
      "218\n",
      "219\n",
      "220\n",
      "221\n",
      "222\n",
      "223\n",
      "224\n",
      "225\n",
      "226\n",
      "227\n",
      "228\n",
      "229\n",
      "230\n",
      "231\n",
      "232\n",
      "233\n",
      "234\n",
      "235\n",
      "236\n",
      "237\n",
      "238\n",
      "239\n",
      "240\n",
      "241\n",
      "242\n",
      "243\n",
      "244\n",
      "245\n",
      "246\n",
      "247\n",
      "248\n",
      "249\n",
      "250\n"
     ]
    }
   ],
   "source": [
    "# translate multilingual to english\n",
    "strings = multi.trans_text.tolist()\n",
    "\n",
    "multi['en_text'] = trans.translate(strings, target_lang='en', max_new_tokens=200)"
   ]
  },
  {
   "cell_type": "markdown",
   "id": "39c16562",
   "metadata": {},
   "source": [
    "### Create initial urgency ratings based on sentiment and strength of the negative sentiment"
   ]
  },
  {
   "cell_type": "code",
   "execution_count": 120,
   "id": "571aa6a1",
   "metadata": {
    "hideCode": false,
    "hidePrompt": false
   },
   "outputs": [],
   "source": [
    "# run sentiment analysis to find negatives and potential negatives\n",
    "sia = SentimentIntensityAnalyzer()\n",
    "\n",
    "def v_polarity(text):\n",
    "    return sia.polarity_scores(text)['compound']\n",
    "\n",
    "def v_negativity(text):\n",
    "    return sia.polarity_scores(text)['neg']\n",
    "\n",
    "multi['polarity'] = multi['en_text'].apply(v_polarity)\n",
    "multi['negativity'] = multi['en_text'].apply(v_negativity)"
   ]
  },
  {
   "cell_type": "code",
   "execution_count": 313,
   "id": "fceedc56",
   "metadata": {
    "hideCode": false,
    "hidePrompt": false
   },
   "outputs": [],
   "source": [
    "# label tickets as positive, negative, or neutral\n",
    "min_positive = 0.3\n",
    "min_neutral = 0\n",
    "\n",
    "multi['polarity_class'] = np.select([((multi['polarity'] > min_positive) & ((multi['negativity'] == 0) | (multi['polarity'] > 0.7))), \n",
    "                                     ((multi['polarity'] < min_neutral) | (multi['negativity'] > 0)), \n",
    "                                     ((min_positive >= multi['polarity']) & (multi['polarity'] >= min_neutral))],\n",
    "                                    ['Positive', 'Negative', 'Neutral'])"
   ]
  },
  {
   "cell_type": "code",
   "execution_count": 348,
   "id": "11258f4f",
   "metadata": {
    "hideCode": false,
    "hidePrompt": false
   },
   "outputs": [],
   "source": [
    "# classify urgency based on level of negativity\n",
    "high_urgency_max = -0.5\n",
    "mid_urgency_max = -0.35\n",
    "low_urgency_min = -0.2\n",
    "\n",
    "multi['urgency_polarity'] = np.select([(multi['polarity'] < high_urgency_max),\n",
    "                                       ((multi['polarity'] > low_urgency_min) & (multi['polarity_class'] != \"Positive\")),\n",
    "                                       ((mid_urgency_max <= multi['polarity']) & (multi['polarity'] <= low_urgency_min)),\n",
    "                                       ((high_urgency_max <= multi['polarity']) & (multi['polarity'] <= mid_urgency_max))],\n",
    "                                     [4, 1, 2, 3],\n",
    "                                     -5).astype(int)"
   ]
  },
  {
   "cell_type": "markdown",
   "id": "16a002ea",
   "metadata": {},
   "source": [
    "### Adjust urgency rating based on words and characters used in the ticket"
   ]
  },
  {
   "cell_type": "code",
   "execution_count": 349,
   "id": "7a38d6e9",
   "metadata": {
    "hideCode": false,
    "hidePrompt": false
   },
   "outputs": [],
   "source": [
    "# keywords for urgency; score based on number of words in text\n",
    "urgent_words = ['need', 'urgent', 'urgency', 'urgently', 'please', 'help', 'useless', 'immediate', 'immediately', 'dire', 'asap', 'pay', 'paid', 'worst', 'worse', 'terrible', 'terribly', 'broke', 'broken', 'disappoint', 'disappointed', 'disappointingly', 'disappointing', 'quick', 'fast']\n",
    "urgent_symbols = ['!', '$', '?']\n",
    "\n",
    "def urgent_word_count(text):\n",
    "    count = 0\n",
    "    for symbol in urgent_symbols:\n",
    "        count += text.count(symbol)/2\n",
    "    \n",
    "    text = ''.join([a for a in text if a.isalpha() or a == \" \"])\n",
    "    \n",
    "    to_check = text.split()\n",
    "    for word in urgent_words:\n",
    "        count += to_check.count(word)\n",
    "  \n",
    "    return count"
   ]
  },
  {
   "cell_type": "code",
   "execution_count": 350,
   "id": "46946661",
   "metadata": {
    "hideCode": false,
    "hidePrompt": false
   },
   "outputs": [],
   "source": [
    "# get counts of urgent text\n",
    "multi['urgency_text'] = multi['en_text'].apply(urgent_word_count)"
   ]
  },
  {
   "cell_type": "code",
   "execution_count": 352,
   "id": "5fe6c0e4",
   "metadata": {
    "hideCode": false,
    "hidePrompt": false
   },
   "outputs": [],
   "source": [
    "# get key urgency stats\n",
    "urgency_text_90th_p = multi.urgency_text.iloc[round(len(multi.urgency_text)*.1)]\n",
    "urgency_text_75th_p = multi.urgency_text.iloc[round(len(multi.urgency_text)*.25)]"
   ]
  },
  {
   "cell_type": "code",
   "execution_count": 353,
   "id": "5dc18c98",
   "metadata": {
    "hideCode": false,
    "hidePrompt": false
   },
   "outputs": [],
   "source": [
    "# increase urgency level based on num of urgency text score\n",
    "multi['urgency_rating'] = np.where(((multi['polarity'] != 'Positive') & (multi['urgency_text'] > urgency_text_75th_p) & (multi['urgency_polarity'] > 0)),\n",
    "                                  multi['urgency_polarity'] + 1,\n",
    "                                  multi['urgency_polarity'])\n",
    "\n",
    "multi['urgency_rating'] = np.where(((multi['polarity'] != 'Positive') & (multi['urgency_text'] > urgency_text_90th_p) & (multi['urgency_polarity'] > 0)),\n",
    "                                  multi['urgency_rating'] + 1,\n",
    "                                  multi['urgency_rating'])"
   ]
  },
  {
   "cell_type": "markdown",
   "id": "ba691ec3",
   "metadata": {},
   "source": [
    "### Create final urgency classification based on above"
   ]
  },
  {
   "cell_type": "code",
   "execution_count": 365,
   "id": "95b8ac07",
   "metadata": {},
   "outputs": [],
   "source": [
    "# create classification based on urgency ratings\n",
    "multi['urgency_class'] = np.select([(multi['urgency_rating'] == 6), (multi['urgency_rating'] == 5), (multi['urgency_rating'] == 4), (multi['urgency_rating'] == 3), (multi['urgency_rating'] == 2), ((multi['urgency_rating'] == 1) & (multi['urgency_text'] > 0)), ((multi['urgency_rating'] == 1) & (multi['urgency_text'] == 0))],\n",
    "                                  ['HIGH', 'HIGH', 'Mid-High', 'Low-Mid', 'Low', 'Lowest', 'None'],\n",
    "                                  'None')"
   ]
  },
  {
   "cell_type": "code",
   "execution_count": 370,
   "id": "661d5c13",
   "metadata": {},
   "outputs": [],
   "source": [
    "# make urgency classes sortable\n",
    "multi.urgency_class = pd.Categorical(multi.urgency_class,\n",
    "                                    categories=['None', 'Lowest', 'Low', 'Low-Mid', 'Mid-High', 'HIGH'],\n",
    "                                    ordered=True)\n",
    "\n",
    "multi.sort_values(by='urgency_class', ascending=False)"
   ]
  }
 ],
 "metadata": {
  "hide_code_all_hidden": false,
  "kernelspec": {
   "display_name": "Python 3 (ipykernel)",
   "language": "python",
   "name": "python3"
  },
  "language_info": {
   "codemirror_mode": {
    "name": "ipython",
    "version": 3
   },
   "file_extension": ".py",
   "mimetype": "text/x-python",
   "name": "python",
   "nbconvert_exporter": "python",
   "pygments_lexer": "ipython3",
   "version": "3.10.4"
  }
 },
 "nbformat": 4,
 "nbformat_minor": 5
}
