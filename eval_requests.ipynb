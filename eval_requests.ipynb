{
 "cells": [
  {
   "cell_type": "code",
   "execution_count": 1,
   "id": "84a03ed4",
   "metadata": {
    "hideCode": false,
    "hidePrompt": false
   },
   "outputs": [],
   "source": [
    "# load packages\n",
    "import pandas as pd\n",
    "# !pip install deep_translator\n",
    "from deep_translator import GoogleTranslator, exceptions\n",
    "# !pip install luga\n",
    "from luga import language\n",
    "import numpy as np\n",
    "# !pip install vaderSentiment\n",
    "from vaderSentiment.vaderSentiment import SentimentIntensityAnalyzer"
   ]
  },
  {
   "cell_type": "markdown",
   "id": "7170a75e",
   "metadata": {},
   "source": [
    "### Load and prepare data"
   ]
  },
  {
   "cell_type": "code",
   "execution_count": 18,
   "id": "1a3c7c08",
   "metadata": {
    "hideCode": false,
    "hidePrompt": false
   },
   "outputs": [],
   "source": [
    "# load data\n",
    "raw = pd.read_parquet('translated.parquet.gzip')"
   ]
  },
  {
   "cell_type": "code",
   "execution_count": 19,
   "id": "b13b5cfe",
   "metadata": {
    "hideCode": false,
    "hidePrompt": false
   },
   "outputs": [],
   "source": [
    "# access your multilingual data and ensure it is lowercase\n",
    "data = pd.DataFrame()\n",
    "data['input'] = raw.trans_text.str.lower()"
   ]
  },
  {
   "cell_type": "markdown",
   "id": "67313692",
   "metadata": {},
   "source": [
    "### Translate multilingual tickets into English for processing"
   ]
  },
  {
   "cell_type": "code",
   "execution_count": 21,
   "id": "fb5c7e31",
   "metadata": {},
   "outputs": [],
   "source": [
    "def translate_str(text):\n",
    "    lang = language(text).name\n",
    "    if lang == 'zh':\n",
    "        lang = 'zh-CN'\n",
    "    try:\n",
    "        trans = GoogleTranslator(source=lang, target='en').translate(text)\n",
    "    except exceptions.LanguageNotSupportedException:\n",
    "        trans = text\n",
    "        \n",
    "    return trans, lang.upper()"
   ]
  },
  {
   "cell_type": "code",
   "execution_count": 26,
   "id": "80b8fc75",
   "metadata": {
    "hideCode": false,
    "hidePrompt": false
   },
   "outputs": [],
   "source": [
    "# translate multilingual to english\n",
    "data['input_english'] = data.input.apply(translate_str).str[0]"
   ]
  },
  {
   "cell_type": "markdown",
   "id": "39c16562",
   "metadata": {},
   "source": [
    "### Create initial urgency ratings based on sentiment and strength of the negative sentiment"
   ]
  },
  {
   "cell_type": "code",
   "execution_count": 27,
   "id": "571aa6a1",
   "metadata": {
    "hideCode": false,
    "hidePrompt": false
   },
   "outputs": [],
   "source": [
    "# run sentiment analysis to find negatives and potential negatives\n",
    "sia = SentimentIntensityAnalyzer()\n",
    "\n",
    "def v_polarity(text):\n",
    "    return sia.polarity_scores(text)['compound']\n",
    "\n",
    "def v_negativity(text):\n",
    "    return sia.polarity_scores(text)['neg']\n",
    "\n",
    "data['polarity'] = data['input_english'].apply(v_polarity)\n",
    "data['negativity'] = data['input_english'].apply(v_negativity)"
   ]
  },
  {
   "cell_type": "code",
   "execution_count": 28,
   "id": "fceedc56",
   "metadata": {
    "hideCode": false,
    "hidePrompt": false
   },
   "outputs": [],
   "source": [
    "# label tickets as positive, negative, or neutral\n",
    "min_positive = 0.3\n",
    "min_neutral = 0\n",
    "\n",
    "data['sentiment'] = np.select([((data['polarity'] > min_positive) & ((data['negativity'] == 0) | (data['polarity'] > 0.7))),\n",
    "                                ((data['polarity'] < min_neutral) | (data['negativity'] > 0)),\n",
    "                                ((min_positive >= data['polarity']) & (data['polarity'] >= min_neutral))],\n",
    "                                ['Positive', 'Negative', 'Neutral'])"
   ]
  },
  {
   "cell_type": "code",
   "execution_count": 29,
   "id": "11258f4f",
   "metadata": {
    "hideCode": false,
    "hidePrompt": false
   },
   "outputs": [],
   "source": [
    "# classify urgency based on level of negativity\n",
    "high_urgency_max = -0.5\n",
    "mid_urgency_max = -0.35\n",
    "low_urgency_min = -0.2\n",
    "\n",
    "data['urgency_polarity'] = np.select([(data['polarity'] < high_urgency_max),\n",
    "                                      ((data['polarity'] > low_urgency_min) & (data['sentiment'] != \"Positive\")),\n",
    "                                      ((mid_urgency_max <= data['polarity']) & (data['polarity'] <= low_urgency_min)),\n",
    "                                      ((high_urgency_max <= data['polarity']) & (data['polarity'] <= mid_urgency_max))],\n",
    "                                     [4, 1, 2, 3],\n",
    "                                     0).astype(int)"
   ]
  },
  {
   "cell_type": "markdown",
   "id": "16a002ea",
   "metadata": {},
   "source": [
    "### Adjust urgency rating based on words and characters used in the ticket"
   ]
  },
  {
   "cell_type": "code",
   "execution_count": 30,
   "id": "7a38d6e9",
   "metadata": {
    "hideCode": false,
    "hidePrompt": false
   },
   "outputs": [],
   "source": [
    "# keywords for urgency; score based on number of words in text\n",
    "urgent_words = ['need', 'urgent', 'urgency', 'urgently', 'please', 'help', 'useless', 'immediate', 'immediately',\n",
    "                'dire', 'asap', 'pay', 'paid', 'worst', 'worse', 'terrible', 'terribly', 'broke', 'broken',\n",
    "                'disappoint', 'disappointed', 'disappointingly', 'disappointing', 'quick', 'fast',\n",
    "                'dying', 'dead', 'death', 'kill', 'important', 'serious', 'pressing', 'now']\n",
    "urgent_symbols = ['!', '$', '?']\n",
    "\n",
    "\n",
    "def urgent_word_count(text):\n",
    "    count = 0\n",
    "    for symbol in urgent_symbols:\n",
    "        count += text.count(symbol)\n",
    "\n",
    "    text = ''.join([a for a in text if a.isalpha() or a == \" \"])\n",
    "\n",
    "    to_check = text.split()\n",
    "    for word in urgent_words:\n",
    "        count += to_check.count(word)\n",
    "\n",
    "    return count"
   ]
  },
  {
   "cell_type": "code",
   "execution_count": 31,
   "id": "46946661",
   "metadata": {
    "hideCode": false,
    "hidePrompt": false
   },
   "outputs": [],
   "source": [
    "# get counts of urgent text\n",
    "data['urgency_text'] = data['input_english'].apply(urgent_word_count)"
   ]
  },
  {
   "cell_type": "code",
   "execution_count": 32,
   "id": "220497bd",
   "metadata": {},
   "outputs": [],
   "source": [
    "# set levels for increasing urgency based on text counts\n",
    "if len(data) > 20:\n",
    "    urgency_text_level2 = data.urgency_text.iloc[round(len(data.urgency_text) * .1)]\n",
    "    urgency_text_level1 = data.urgency_text.iloc[round(len(data.urgency_text) * .25)]\n",
    "else:\n",
    "    urgency_text_level2 = 4\n",
    "    urgency_text_level1 = 2"
   ]
  },
  {
   "cell_type": "code",
   "execution_count": 33,
   "id": "5dc18c98",
   "metadata": {
    "hideCode": false,
    "hidePrompt": false
   },
   "outputs": [],
   "source": [
    "# increase urgency level based on category and text count score\n",
    "data['rating'] = np.where(((data['urgency_text'] > urgency_text_level2) & (data['urgency_polarity'] > 0)),\n",
    "                                      data['urgency_polarity'] + 1,\n",
    "                                      data['urgency_polarity'])\n",
    "\n",
    "data['rating'] = np.where(((data['urgency_text'] > urgency_text_level1) & (data['urgency_polarity'] > 0)),\n",
    "                                  data['rating'] + 1,\n",
    "                                  data['rating'])\n",
    "\n",
    "data['rating'] = np.where((data['polarity'] == 'Positive'),\n",
    "                                  data['rating'] * 2,\n",
    "                                  data['rating'])\n",
    "\n",
    "data['rating'] = np.where((data['polarity'] == 'Neutral'),\n",
    "                                  (data['rating']-1)*2 + 1,\n",
    "                                  data['rating'])"
   ]
  },
  {
   "cell_type": "markdown",
   "id": "ba691ec3",
   "metadata": {},
   "source": [
    "### Create final urgency classification based on above"
   ]
  },
  {
   "cell_type": "code",
   "execution_count": 34,
   "id": "95b8ac07",
   "metadata": {},
   "outputs": [],
   "source": [
    "# create classification based on urgency ratings\n",
    "data['classification'] = np.select([(data['rating'] == 6),\n",
    "                                        (data['rating'] == 5),\n",
    "                                        (data['rating'] == 4),\n",
    "                                        (data['rating'] == 3),\n",
    "                                        (data['rating'] == 2),\n",
    "                                        ((data['rating'] == 1) & (data['urgency_text'] > 0)),\n",
    "                                        ((data['rating'] == 1) & (data['urgency_text'] == 0))],\n",
    "                                       ['HIGH', 'HIGH', 'Mid-High', 'Low-Mid', 'Low', 'Lowest', 'No Negativity or Urgency'],\n",
    "                                       'No Negativity or Urgency')"
   ]
  },
  {
   "cell_type": "code",
   "execution_count": 35,
   "id": "661d5c13",
   "metadata": {},
   "outputs": [],
   "source": [
    "# make urgency classes sortable\n",
    "data.classification = pd.Categorical(data.classification,\n",
    "                                         categories=['No Negativity or Urgency', 'Lowest', 'Low', 'Low-Mid', 'Mid-High', 'HIGH'],\n",
    "                                         ordered=True)\n",
    "data.sentiment = pd.Categorical(data.sentiment,\n",
    "                                categories=['Negative', 'Neutral', 'Positive'],\n",
    "                                ordered=True)\n",
    "\n",
    "data.sort_values(by='rating', ascending=False, inplace=True)\n",
    "data = data[['input', 'input_english', 'classification', 'sentiment', 'negativity', 'rating']]\n",
    "data.columns = data.columns.str.capitalize()"
   ]
  },
  {
   "cell_type": "markdown",
   "id": "1f9e9f5b",
   "metadata": {},
   "source": [
    "### View the final dataset to evaluate tickets based on final classification"
   ]
  },
  {
   "cell_type": "code",
   "execution_count": 36,
   "id": "c65c257e",
   "metadata": {},
   "outputs": [
    {
     "data": {
      "text/html": [
       "<div>\n",
       "<style scoped>\n",
       "    .dataframe tbody tr th:only-of-type {\n",
       "        vertical-align: middle;\n",
       "    }\n",
       "\n",
       "    .dataframe tbody tr th {\n",
       "        vertical-align: top;\n",
       "    }\n",
       "\n",
       "    .dataframe thead th {\n",
       "        text-align: right;\n",
       "    }\n",
       "</style>\n",
       "<table border=\"1\" class=\"dataframe\">\n",
       "  <thead>\n",
       "    <tr style=\"text-align: right;\">\n",
       "      <th></th>\n",
       "      <th>Input</th>\n",
       "      <th>Input_english</th>\n",
       "      <th>Classification</th>\n",
       "      <th>Sentiment</th>\n",
       "      <th>Negativity</th>\n",
       "      <th>Rating</th>\n",
       "    </tr>\n",
       "  </thead>\n",
       "  <tbody>\n",
       "    <tr>\n",
       "      <th>378</th>\n",
       "      <td>もう アマゾンは使わない! 商品が「出荷」になったので 一日中待つと 間違った国に送っただけです!</td>\n",
       "      <td>I don't use Amazon anymore! I waited all day b...</td>\n",
       "      <td>HIGH</td>\n",
       "      <td>Negative</td>\n",
       "      <td>0.199</td>\n",
       "      <td>6</td>\n",
       "    </tr>\n",
       "    <tr>\n",
       "      <th>361</th>\n",
       "      <td>is het mogelijk om amzl te verhinderen mijn pa...</td>\n",
       "      <td>is it possible to prevent amzl from sending my...</td>\n",
       "      <td>HIGH</td>\n",
       "      <td>Negative</td>\n",
       "      <td>0.363</td>\n",
       "      <td>6</td>\n",
       "    </tr>\n",
       "    <tr>\n",
       "      <th>377</th>\n",
       "      <td>どうしたんだ?どうしたの?</td>\n",
       "      <td>What's wrong? What's wrong?</td>\n",
       "      <td>HIGH</td>\n",
       "      <td>Negative</td>\n",
       "      <td>0.766</td>\n",
       "      <td>6</td>\n",
       "    </tr>\n",
       "    <tr>\n",
       "      <th>232</th>\n",
       "      <td>это что на моем экране? не уверен, что это хбо...</td>\n",
       "      <td>what's on my screen? not sure if it's xbox sid...</td>\n",
       "      <td>HIGH</td>\n",
       "      <td>Negative</td>\n",
       "      <td>0.175</td>\n",
       "      <td>6</td>\n",
       "    </tr>\n",
       "    <tr>\n",
       "      <th>31</th>\n",
       "      <td>somebody from please help meeeeee 😩😩😩😩 i'm hav...</td>\n",
       "      <td>somebody from please help meeeeee 😩😩😩😩 i'm hav...</td>\n",
       "      <td>HIGH</td>\n",
       "      <td>Negative</td>\n",
       "      <td>0.362</td>\n",
       "      <td>6</td>\n",
       "    </tr>\n",
       "    <tr>\n",
       "      <th>...</th>\n",
       "      <td>...</td>\n",
       "      <td>...</td>\n",
       "      <td>...</td>\n",
       "      <td>...</td>\n",
       "      <td>...</td>\n",
       "      <td>...</td>\n",
       "    </tr>\n",
       "    <tr>\n",
       "      <th>233</th>\n",
       "      <td>5 приложение на xboxes не работает код ошибки ...</td>\n",
       "      <td>5 app on xboxes not working error code 200, di...</td>\n",
       "      <td>No Negativity or Urgency</td>\n",
       "      <td>Positive</td>\n",
       "      <td>0.000</td>\n",
       "      <td>0</td>\n",
       "    </tr>\n",
       "    <tr>\n",
       "      <th>230</th>\n",
       "      <td>выкупил код для fifa точек сегодня вечером и д...</td>\n",
       "      <td>redeemed the code for fifa points tonight and ...</td>\n",
       "      <td>No Negativity or Urgency</td>\n",
       "      <td>Positive</td>\n",
       "      <td>0.000</td>\n",
       "      <td>0</td>\n",
       "    </tr>\n",
       "    <tr>\n",
       "      <th>225</th>\n",
       "      <td>kinda нужно убедиться, что у меня есть 680$ cd...</td>\n",
       "      <td>kinda need to make sure i have 680$ cdn in my ...</td>\n",
       "      <td>No Negativity or Urgency</td>\n",
       "      <td>Positive</td>\n",
       "      <td>0.000</td>\n",
       "      <td>0</td>\n",
       "    </tr>\n",
       "    <tr>\n",
       "      <th>223</th>\n",
       "      <td>когда кто-то или знает, когда xbox один x кора...</td>\n",
       "      <td>when someone or knows when xbox one x ships le...</td>\n",
       "      <td>No Negativity or Urgency</td>\n",
       "      <td>Positive</td>\n",
       "      <td>0.000</td>\n",
       "      <td>0</td>\n",
       "    </tr>\n",
       "    <tr>\n",
       "      <th>450</th>\n",
       "      <td>是的,11.0.3</td>\n",
       "      <td>Yes, 11.0.3</td>\n",
       "      <td>No Negativity or Urgency</td>\n",
       "      <td>Positive</td>\n",
       "      <td>0.000</td>\n",
       "      <td>0</td>\n",
       "    </tr>\n",
       "  </tbody>\n",
       "</table>\n",
       "<p>250 rows × 6 columns</p>\n",
       "</div>"
      ],
      "text/plain": [
       "                                                 Input  \\\n",
       "378  もう アマゾンは使わない! 商品が「出荷」になったので 一日中待つと 間違った国に送っただけです!   \n",
       "361  is het mogelijk om amzl te verhinderen mijn pa...   \n",
       "377                                      どうしたんだ?どうしたの?   \n",
       "232  это что на моем экране? не уверен, что это хбо...   \n",
       "31   somebody from please help meeeeee 😩😩😩😩 i'm hav...   \n",
       "..                                                 ...   \n",
       "233  5 приложение на xboxes не работает код ошибки ...   \n",
       "230  выкупил код для fifa точек сегодня вечером и д...   \n",
       "225  kinda нужно убедиться, что у меня есть 680$ cd...   \n",
       "223  когда кто-то или знает, когда xbox один x кора...   \n",
       "450                                          是的,11.0.3   \n",
       "\n",
       "                                         Input_english  \\\n",
       "378  I don't use Amazon anymore! I waited all day b...   \n",
       "361  is it possible to prevent amzl from sending my...   \n",
       "377                        What's wrong? What's wrong?   \n",
       "232  what's on my screen? not sure if it's xbox sid...   \n",
       "31   somebody from please help meeeeee 😩😩😩😩 i'm hav...   \n",
       "..                                                 ...   \n",
       "233  5 app on xboxes not working error code 200, di...   \n",
       "230  redeemed the code for fifa points tonight and ...   \n",
       "225  kinda need to make sure i have 680$ cdn in my ...   \n",
       "223  when someone or knows when xbox one x ships le...   \n",
       "450                                        Yes, 11.0.3   \n",
       "\n",
       "               Classification Sentiment  Negativity  Rating  \n",
       "378                      HIGH  Negative       0.199       6  \n",
       "361                      HIGH  Negative       0.363       6  \n",
       "377                      HIGH  Negative       0.766       6  \n",
       "232                      HIGH  Negative       0.175       6  \n",
       "31                       HIGH  Negative       0.362       6  \n",
       "..                        ...       ...         ...     ...  \n",
       "233  No Negativity or Urgency  Positive       0.000       0  \n",
       "230  No Negativity or Urgency  Positive       0.000       0  \n",
       "225  No Negativity or Urgency  Positive       0.000       0  \n",
       "223  No Negativity or Urgency  Positive       0.000       0  \n",
       "450  No Negativity or Urgency  Positive       0.000       0  \n",
       "\n",
       "[250 rows x 6 columns]"
      ]
     },
     "execution_count": 36,
     "metadata": {},
     "output_type": "execute_result"
    }
   ],
   "source": [
    "data"
   ]
  }
 ],
 "metadata": {
  "hide_code_all_hidden": false,
  "kernelspec": {
   "display_name": "Python 3 (ipykernel)",
   "language": "python",
   "name": "python3"
  },
  "language_info": {
   "codemirror_mode": {
    "name": "ipython",
    "version": 3
   },
   "file_extension": ".py",
   "mimetype": "text/x-python",
   "name": "python",
   "nbconvert_exporter": "python",
   "pygments_lexer": "ipython3",
   "version": "3.10.4"
  }
 },
 "nbformat": 4,
 "nbformat_minor": 5
}
